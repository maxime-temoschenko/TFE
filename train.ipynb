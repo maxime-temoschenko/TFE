{
 "cells": [
  {
   "metadata": {},
   "cell_type": "markdown",
   "source": "<h1> Batch Dimensions and Visualization </h1>",
   "id": "c470209b461cad57"
  },
  {
   "metadata": {
    "ExecuteTime": {
     "end_time": "2025-02-08T10:38:18.096908Z",
     "start_time": "2025-02-08T10:37:26.586406Z"
    }
   },
   "cell_type": "code",
   "source": [
    "import matplotlib.pyplot as plt\n",
    "import torch\n",
    "from utils import TrajectoryDataset\n",
    "from torch.utils.data import DataLoader\n",
    "from pathlib import Path\n",
    "\n",
    "PATH = Path('.')\n",
    "window= 10\n",
    "batch_size = 5\n",
    "\n",
    "\n",
    "trainset = TrajectoryDataset(PATH / 'data/train.h5', window=window, flatten=True)\n",
    "validset = TrajectoryDataset(PATH / 'data/valid.h5', window=window, flatten=True)\n",
    "trainloader = DataLoader(trainset, batch_size=batch_size, shuffle=True, num_workers=1, persistent_workers=True)\n",
    "validloader = DataLoader(validset, batch_size=batch_size, shuffle=True, num_workers=1, persistent_workers=True)\n",
    "\n",
    "plot_batch = None\n",
    "for i, (batch, _) in  enumerate(trainloader):\n",
    "    print(f\"{i} : {batch.shape}\")\n",
    "    plot_batch = batch\n",
    "\n",
    "\n",
    "\n",
    "# Plot\n",
    "# Choose random batch[i,j, :, :]\n",
    "i = torch.randint(0,1,(1,))\n",
    "j = torch.randint(0,10, (1,))\n",
    "if (j+1) % 4 == 0 and j != 0:\n",
    "    j = j -1\n",
    "\n",
    "figure, axis = plt.subplots(1,2, figsize=(16,9))\n",
    "im = axis[0].imshow(batch[i[0],j[0]],  cmap='inferno')\n",
    "axis[0].set_title(f\"Visualization of batch[{i[0]}][{j[0]}]\")\n",
    "figure.colorbar(mappable = im,label='Values')\n",
    "axis[1].imshow(batch[0,7],  cmap='inferno')\n",
    "axis[1].set_title(f\"Visualization of a MASK Layer\")\n",
    "\n",
    "plt.show()\n"
   ],
   "id": "731ef81e92244387",
   "outputs": [
    {
     "name": "stdout",
     "output_type": "stream",
     "text": [
      "0 : torch.Size([5, 300, 64, 64])\n",
      "1 : torch.Size([5, 300, 64, 64])\n",
      "2 : torch.Size([5, 300, 64, 64])\n",
      "3 : torch.Size([5, 300, 64, 64])\n",
      "4 : torch.Size([5, 300, 64, 64])\n",
      "5 : torch.Size([5, 300, 64, 64])\n",
      "6 : torch.Size([5, 300, 64, 64])\n",
      "7 : torch.Size([5, 300, 64, 64])\n",
      "8 : torch.Size([5, 300, 64, 64])\n",
      "9 : torch.Size([5, 300, 64, 64])\n",
      "10 : torch.Size([5, 300, 64, 64])\n",
      "11 : torch.Size([5, 300, 64, 64])\n",
      "12 : torch.Size([5, 300, 64, 64])\n",
      "13 : torch.Size([5, 300, 64, 64])\n",
      "14 : torch.Size([5, 300, 64, 64])\n",
      "15 : torch.Size([5, 300, 64, 64])\n",
      "16 : torch.Size([5, 300, 64, 64])\n",
      "17 : torch.Size([5, 300, 64, 64])\n",
      "18 : torch.Size([5, 300, 64, 64])\n",
      "19 : torch.Size([5, 300, 64, 64])\n",
      "20 : torch.Size([5, 300, 64, 64])\n",
      "21 : torch.Size([5, 300, 64, 64])\n",
      "22 : torch.Size([5, 300, 64, 64])\n",
      "23 : torch.Size([5, 300, 64, 64])\n",
      "24 : torch.Size([5, 300, 64, 64])\n",
      "25 : torch.Size([5, 300, 64, 64])\n",
      "26 : torch.Size([5, 300, 64, 64])\n",
      "27 : torch.Size([5, 300, 64, 64])\n",
      "28 : torch.Size([5, 300, 64, 64])\n",
      "29 : torch.Size([5, 300, 64, 64])\n",
      "30 : torch.Size([5, 300, 64, 64])\n",
      "31 : torch.Size([5, 300, 64, 64])\n",
      "32 : torch.Size([5, 300, 64, 64])\n",
      "33 : torch.Size([5, 300, 64, 64])\n",
      "34 : torch.Size([5, 300, 64, 64])\n",
      "35 : torch.Size([5, 300, 64, 64])\n",
      "36 : torch.Size([5, 300, 64, 64])\n",
      "37 : torch.Size([5, 300, 64, 64])\n",
      "38 : torch.Size([5, 300, 64, 64])\n",
      "39 : torch.Size([5, 300, 64, 64])\n",
      "40 : torch.Size([5, 300, 64, 64])\n",
      "41 : torch.Size([5, 300, 64, 64])\n",
      "42 : torch.Size([5, 300, 64, 64])\n",
      "43 : torch.Size([5, 300, 64, 64])\n",
      "44 : torch.Size([5, 300, 64, 64])\n",
      "45 : torch.Size([5, 300, 64, 64])\n",
      "46 : torch.Size([5, 300, 64, 64])\n",
      "47 : torch.Size([5, 300, 64, 64])\n",
      "48 : torch.Size([5, 300, 64, 64])\n",
      "49 : torch.Size([5, 300, 64, 64])\n",
      "50 : torch.Size([5, 300, 64, 64])\n",
      "51 : torch.Size([5, 300, 64, 64])\n",
      "52 : torch.Size([5, 300, 64, 64])\n",
      "53 : torch.Size([5, 300, 64, 64])\n",
      "54 : torch.Size([5, 300, 64, 64])\n",
      "55 : torch.Size([5, 300, 64, 64])\n",
      "56 : torch.Size([5, 300, 64, 64])\n",
      "57 : torch.Size([5, 300, 64, 64])\n",
      "58 : torch.Size([5, 300, 64, 64])\n",
      "59 : torch.Size([5, 300, 64, 64])\n",
      "60 : torch.Size([5, 300, 64, 64])\n",
      "61 : torch.Size([5, 300, 64, 64])\n",
      "62 : torch.Size([5, 300, 64, 64])\n",
      "63 : torch.Size([5, 300, 64, 64])\n",
      "64 : torch.Size([5, 300, 64, 64])\n",
      "65 : torch.Size([5, 300, 64, 64])\n",
      "66 : torch.Size([5, 300, 64, 64])\n",
      "67 : torch.Size([5, 300, 64, 64])\n",
      "68 : torch.Size([5, 300, 64, 64])\n",
      "69 : torch.Size([5, 300, 64, 64])\n",
      "70 : torch.Size([5, 300, 64, 64])\n",
      "71 : torch.Size([5, 300, 64, 64])\n",
      "72 : torch.Size([5, 300, 64, 64])\n",
      "73 : torch.Size([5, 300, 64, 64])\n",
      "74 : torch.Size([5, 300, 64, 64])\n",
      "75 : torch.Size([5, 300, 64, 64])\n",
      "76 : torch.Size([5, 300, 64, 64])\n",
      "77 : torch.Size([5, 300, 64, 64])\n",
      "78 : torch.Size([5, 300, 64, 64])\n",
      "79 : torch.Size([5, 300, 64, 64])\n",
      "80 : torch.Size([5, 300, 64, 64])\n",
      "81 : torch.Size([5, 300, 64, 64])\n",
      "82 : torch.Size([5, 300, 64, 64])\n",
      "83 : torch.Size([5, 300, 64, 64])\n",
      "84 : torch.Size([5, 300, 64, 64])\n",
      "85 : torch.Size([5, 300, 64, 64])\n",
      "86 : torch.Size([5, 300, 64, 64])\n",
      "87 : torch.Size([5, 300, 64, 64])\n",
      "88 : torch.Size([5, 300, 64, 64])\n",
      "89 : torch.Size([5, 300, 64, 64])\n",
      "90 : torch.Size([5, 300, 64, 64])\n",
      "91 : torch.Size([5, 300, 64, 64])\n",
      "92 : torch.Size([5, 300, 64, 64])\n",
      "93 : torch.Size([5, 300, 64, 64])\n",
      "94 : torch.Size([5, 300, 64, 64])\n",
      "95 : torch.Size([5, 300, 64, 64])\n",
      "96 : torch.Size([5, 300, 64, 64])\n",
      "97 : torch.Size([5, 300, 64, 64])\n",
      "98 : torch.Size([5, 300, 64, 64])\n",
      "99 : torch.Size([5, 300, 64, 64])\n",
      "100 : torch.Size([5, 300, 64, 64])\n",
      "101 : torch.Size([5, 300, 64, 64])\n",
      "102 : torch.Size([5, 300, 64, 64])\n",
      "103 : torch.Size([5, 300, 64, 64])\n",
      "104 : torch.Size([5, 300, 64, 64])\n",
      "105 : torch.Size([5, 300, 64, 64])\n",
      "106 : torch.Size([5, 300, 64, 64])\n",
      "107 : torch.Size([5, 300, 64, 64])\n",
      "108 : torch.Size([5, 300, 64, 64])\n",
      "109 : torch.Size([5, 300, 64, 64])\n",
      "110 : torch.Size([5, 300, 64, 64])\n",
      "111 : torch.Size([5, 300, 64, 64])\n",
      "112 : torch.Size([5, 300, 64, 64])\n",
      "113 : torch.Size([5, 300, 64, 64])\n",
      "114 : torch.Size([5, 300, 64, 64])\n",
      "115 : torch.Size([5, 300, 64, 64])\n",
      "116 : torch.Size([5, 300, 64, 64])\n",
      "117 : torch.Size([5, 300, 64, 64])\n",
      "118 : torch.Size([5, 300, 64, 64])\n",
      "119 : torch.Size([5, 300, 64, 64])\n",
      "120 : torch.Size([5, 300, 64, 64])\n",
      "121 : torch.Size([5, 300, 64, 64])\n",
      "122 : torch.Size([5, 300, 64, 64])\n",
      "123 : torch.Size([5, 300, 64, 64])\n",
      "124 : torch.Size([5, 300, 64, 64])\n",
      "125 : torch.Size([5, 300, 64, 64])\n",
      "126 : torch.Size([5, 300, 64, 64])\n",
      "127 : torch.Size([5, 300, 64, 64])\n",
      "128 : torch.Size([5, 300, 64, 64])\n",
      "129 : torch.Size([5, 300, 64, 64])\n",
      "130 : torch.Size([5, 300, 64, 64])\n",
      "131 : torch.Size([5, 300, 64, 64])\n",
      "132 : torch.Size([5, 300, 64, 64])\n",
      "133 : torch.Size([5, 300, 64, 64])\n",
      "134 : torch.Size([5, 300, 64, 64])\n",
      "135 : torch.Size([5, 300, 64, 64])\n",
      "136 : torch.Size([5, 300, 64, 64])\n",
      "137 : torch.Size([5, 300, 64, 64])\n",
      "138 : torch.Size([5, 300, 64, 64])\n",
      "139 : torch.Size([5, 300, 64, 64])\n",
      "140 : torch.Size([5, 300, 64, 64])\n",
      "141 : torch.Size([5, 300, 64, 64])\n",
      "142 : torch.Size([5, 300, 64, 64])\n",
      "143 : torch.Size([5, 300, 64, 64])\n",
      "144 : torch.Size([5, 300, 64, 64])\n",
      "145 : torch.Size([5, 300, 64, 64])\n",
      "146 : torch.Size([5, 300, 64, 64])\n",
      "147 : torch.Size([5, 300, 64, 64])\n",
      "148 : torch.Size([5, 300, 64, 64])\n",
      "149 : torch.Size([5, 300, 64, 64])\n",
      "150 : torch.Size([5, 300, 64, 64])\n",
      "151 : torch.Size([5, 300, 64, 64])\n",
      "152 : torch.Size([5, 300, 64, 64])\n",
      "153 : torch.Size([5, 300, 64, 64])\n",
      "154 : torch.Size([2, 300, 64, 64])\n"
     ]
    },
    {
     "data": {
      "text/plain": [
       "<Figure size 1600x900 with 3 Axes>"
      ],
      "image/png": "[encoded data removed]"
     },
     "metadata": {},
     "output_type": "display_data"
    }
   ],
   "execution_count": 2
  },
  {
   "metadata": {},
   "cell_type": "markdown",
   "source": "<h1> Understand UNET dimensions </h1>",
   "id": "264c92a289ed86a2"
  },
  {
   "metadata": {
    "ExecuteTime": {
     "end_time": "2025-02-11T07:53:56.424692Z",
     "start_time": "2025-02-11T07:53:46.710652Z"
    }
   },
   "cell_type": "code",
   "source": [
    "\n",
    "import torch\n",
    "import torch.nn as nn\n",
    "from nn import UNet\n",
    "\n",
    "in_channels = 4\n",
    "out_channels = 4\n",
    "mod_features = 66\n",
    "hidden_channels = [32, 64, 128]\n",
    "hidden_blocks = [2, 3, 5]\n",
    "spatial = 2\n",
    "\n",
    "# UNET Forward : x (B, C, H, W)\n",
    "unet = UNet(\n",
    "    in_channels=in_channels,\n",
    "    out_channels=out_channels,\n",
    "    mod_features=mod_features,\n",
    "    hidden_channels=hidden_channels,\n",
    "    hidden_blocks=hidden_blocks,\n",
    "    spatial=spatial,\n",
    ")\n",
    "\n",
    "\n",
    "batch_size = 4\n",
    "x = torch.randn(batch_size, in_channels, 128, 128)\n",
    "\n",
    "\n",
    "y = torch.randn(batch_size, mod_features)\n",
    "\n",
    "\n",
    "output = unet(x, y)\n",
    "\n",
    "\n",
    "print(output.shape)"
   ],
   "id": "8820e74e17d9ec46",
   "outputs": [
    {
     "name": "stdout",
     "output_type": "stream",
     "text": [
      "torch.Size([4, 4, 128, 128])\n"
     ]
    }
   ],
   "execution_count": 1
  },
  {
   "metadata": {},
   "cell_type": "markdown",
   "source": "<h1> Understand ScoreUNET dimensions </h1>",
   "id": "82db58fc5afe3d88"
  },
  {
   "metadata": {
    "ExecuteTime": {
     "end_time": "2025-02-07T09:35:26.031400Z",
     "start_time": "2025-02-07T09:35:25.128436Z"
    }
   },
   "cell_type": "code",
   "source": [
    "import torch\n",
    "import torch.nn as nn\n",
    "from score import ScoreUNet\n",
    "batch_size = 5\n",
    "MAR_channels = 4 # Example ['RF', 'T2m', 'U10m', MASK]\n",
    "window = 10\n",
    "y_dim = 128\n",
    "x_dim = 128\n",
    "\n",
    "CONFIG = { 'hidden_channels' : [32, 64, 128],  \\\n",
    "'hidden_blocks' : [2, 3, 5],  \\\n",
    "'spatial' : 2, \\\n",
    "'channels' : window*MAR_channels, \\\n",
    "'context' : 0,\\\n",
    "'embedding' : 64 }\n",
    "\n",
    "\n",
    "score_unet = ScoreUNet(**CONFIG)\n",
    "\n",
    "\n",
    "\n",
    "\n",
    "x = torch.randn([batch_size, window*MAR_channels, y_dim, x_dim]) # because of flatten\n",
    "t = torch.rand(x.shape[0], dtype=x.dtype, device=x.device)\n",
    "\n",
    "print(f\"x:  {x.shape} , t: {t.shape}\")\n",
    "c = None\n",
    "\n",
    "\n",
    "output = score_unet(x, t, c)\n",
    "\n",
    "\n",
    "print(f\"Output Shape : {output.shape}\")"
   ],
   "id": "143cd78ab32f8ceb",
   "outputs": [
    {
     "name": "stdout",
     "output_type": "stream",
     "text": [
      "x:  torch.Size([5, 40, 128, 128]) , t: torch.Size([5])\n",
      "Output Shape : torch.Size([5, 40, 128, 128])\n"
     ]
    }
   ],
   "execution_count": 15
  },
  {
   "metadata": {},
   "cell_type": "markdown",
   "source": "<h1> Understand VPSDE dimensions </h1>",
   "id": "8a5fa1e72cbf1ead"
  },
  {
   "metadata": {
    "ExecuteTime": {
     "end_time": "2025-02-07T09:35:28.194463Z",
     "start_time": "2025-02-07T09:35:27.609503Z"
    }
   },
   "cell_type": "code",
   "source": [
    "import torch\n",
    "import torch.nn as nn\n",
    "from score import ScoreUNet, VPSDE\n",
    "\n",
    "batch_size = 5\n",
    "MAR_channels = 4 # Example ['RF', 'T2m', 'U10m', MASK]\n",
    "window = 10\n",
    "y_dim = 128\n",
    "x_dim = 128\n",
    "\n",
    "CONFIG = { 'hidden_channels' : [32, 64, 128],  \\\n",
    "'hidden_blocks' : [2, 3, 5],  \\\n",
    "'spatial' : 2, \\\n",
    "'channels' : window*MAR_channels, \\\n",
    "'context' : 0,\\\n",
    "'embedding' : 64,\\\n",
    "}\n",
    "\n",
    "\n",
    "score_unet = ScoreUNet(**CONFIG)\n",
    "vpsde = VPSDE(score_unet, shape=(MAR_channels*window, y_dim, x_dim))\n",
    "\n",
    "\n",
    "\n",
    "x = torch.randn([batch_size, window*MAR_channels, y_dim, x_dim]) # window*MAR_channels because of flatten\n",
    "\n",
    "vpsde.loss(x)"
   ],
   "id": "3f7d791a7c0963db",
   "outputs": [
    {
     "data": {
      "text/plain": [
       "tensor(1.2994, grad_fn=<MeanBackward0>)"
      ]
     },
     "execution_count": 16,
     "metadata": {},
     "output_type": "execute_result"
    }
   ],
   "execution_count": 16
  },
  {
   "metadata": {},
   "cell_type": "markdown",
   "source": "<h1> Batch Loop (Ensure Architecture design is well shaped)</h1>",
   "id": "1a20d23055a4cba6"
  },
  {
   "metadata": {
    "ExecuteTime": {
     "end_time": "2025-02-07T09:35:31.466011Z",
     "start_time": "2025-02-07T09:35:29.898198Z"
    }
   },
   "cell_type": "code",
   "source": [
    "import torch\n",
    "import h5py\n",
    "import torch.nn as nn\n",
    "from score import ScoreUNet, VPSDE\n",
    "\n",
    "# Common dimensions\n",
    "batch_size = 5\n",
    "MAR_channels = 4 # Example ['RF', 'T2m', 'U10m', MASK]\n",
    "window = 10\n",
    "y_dim = 128\n",
    "x_dim = 128\n",
    "\n",
    "# Define the network\n",
    "CONFIG = { 'hidden_channels' : [32, 64, 128],  \\\n",
    "'hidden_blocks' : [2, 3, 5],  \\\n",
    "'spatial' : 2, \\\n",
    "'channels' : window*MAR_channels, \\\n",
    "'context' : 0,\\\n",
    "'embedding' : 64 }\n",
    "\n",
    "# Denoiser and Scheduler\n",
    "score_unet = ScoreUNet(**CONFIG)\n",
    "vpsde = VPSDE(score_unet, shape=(MAR_channels*window, y_dim, x_dim))\n",
    "\n",
    "trainset = TrajectoryDataset(PATH / \"data/train.h5\", window=10, flatten=True)\n",
    "validset = TrajectoryDataset(PATH / \"data/valid.h5\", window=10, flatten=True)\n",
    "\n",
    "'''\n",
    " Batch loop\n",
    "'''\n",
    "with h5py.File(PATH / \"data/mask.h5\", \"r\") as f:\n",
    "    mask = torch.tensor(f[\"dataset\"][:], dtype=torch.float32).unsqueeze(0)\n",
    "\n",
    "trainloader = DataLoader(trainset, batch_size=batch_size, shuffle=True, num_workers=1, persistent_workers=True)\n",
    "validloader = DataLoader(validset, batch_size=batch_size, shuffle=False, num_workers=1, persistent_workers=True)\n",
    "for i, (batch, _) in enumerate(trainloader):\n",
    "        loss = vpsde.loss(batch, w=mask)\n",
    "        print(f\"{i} batch : {batch.shape}, loss : {loss}\")"
   ],
   "id": "397047736ca7899a",
   "outputs": [
    {
     "name": "stdout",
     "output_type": "stream",
     "text": [
      "0 batch : torch.Size([5, 40, 64, 64]), loss : 1.2517942190170288\n",
      "1 batch : torch.Size([5, 40, 64, 64]), loss : 1.2469114065170288\n",
      "2 batch : torch.Size([5, 40, 64, 64]), loss : 1.2365354299545288\n",
      "3 batch : torch.Size([5, 40, 64, 64]), loss : 1.2249854803085327\n",
      "4 batch : torch.Size([4, 40, 64, 64]), loss : 1.2477240562438965\n"
     ]
    }
   ],
   "execution_count": 17
  },
  {
   "metadata": {},
   "cell_type": "markdown",
   "source": "<h1> CPU Training Loop </h1>",
   "id": "63ce069f77bafa30"
  },
  {
   "metadata": {
    "jupyter": {
     "is_executing": true
    },
    "ExecuteTime": {
     "end_time": "2025-02-11T07:46:31.484607448Z",
     "start_time": "2025-02-10T15:41:55.867877Z"
    }
   },
   "cell_type": "code",
   "source": [
    "import os\n",
    "import h5py\n",
    "import math\n",
    "import torch\n",
    "import numpy as np\n",
    "import wandb\n",
    "import torch.nn as nn\n",
    "import torch.optim as optim\n",
    "from torch.utils.data import DataLoader\n",
    "from tqdm import trange\n",
    "from pathlib import Path\n",
    "from utils import SequenceDataset\n",
    "from score import ScoreUNet, MCScoreWrapper, VPSDE\n",
    "from score import VPSDE\n",
    "\n",
    "PATH = Path('.')\n",
    "\n",
    "with h5py.File(PATH / \"data/mask.h5\", \"r\") as f:\n",
    "    mask = torch.tensor(f[\"dataset\"][:], dtype=torch.float32).unsqueeze(0)\n",
    "\n",
    "if torch.isnan(mask).any():\n",
    "    raise ValueError(\"Mask contains NaN values!\")\n",
    "\n",
    "TRAIN_CONFIG = {\n",
    "    \"epochs\": 100,\n",
    "    \"batch_size\": 5,\n",
    "    \"learning_rate\": 1e-3,\n",
    "    \"weight_decay\": 1e-3,\n",
    "    \"scheduler\": \"linear\",\n",
    "    \"embedding\": 32,\n",
    "    \"hidden_channels\": (64,),\n",
    "    \"hidden_blocks\": (3,),\n",
    "    \"activation\": \"SiLU\",\n",
    "}\n",
    "device = 'cpu'\n",
    "\n",
    "'''\n",
    "Definition of Denoiser and Scheduler\n",
    "'''\n",
    "# Common dimensions\n",
    "batch_size = 30\n",
    "MAR_channels = 2 # Example ['RF', 'T2m', 'U10m', MASK]\n",
    "window = 12\n",
    "y_dim = 64\n",
    "x_dim = 64\n",
    "\n",
    "MODEL_CONFIG = { 'hidden_channels' : [32, 64, 128],  \\\n",
    "'hidden_blocks' : [2, 3, 5],  \\\n",
    "'spatial' : 2, \\\n",
    "'channels' : window*MAR_channels, \\\n",
    "'context' : 0,\\\n",
    "'embedding' : 64 }\n",
    "\n",
    "CONFIG = {**TRAIN_CONFIG, **MODEL_CONFIG}\n",
    "run = wandb.init(\n",
    "    project=\"Denoiser-Training\",\n",
    "    config= CONFIG)\n",
    "\n",
    "\n",
    "# Denoiser and Scheduler\n",
    "score_unet = ScoreUNet(**MODEL_CONFIG)\n",
    "vpsde = VPSDE(score_unet, shape=(MAR_channels*window, y_dim, x_dim))\n",
    "\n",
    "# Load Dataset\n",
    "trainset = SequenceDataset(PATH / \"data/train.h5\", window=window, flatten=True)\n",
    "validset = SequenceDataset(PATH / \"data/test.h5\", window=window, flatten=True)\n",
    "\n",
    "trainloader = DataLoader(trainset, batch_size=TRAIN_CONFIG[\"batch_size\"], shuffle=True, num_workers=1, persistent_workers=True)\n",
    "validloader = DataLoader(validset, batch_size=TRAIN_CONFIG[\"batch_size\"], shuffle=False, num_workers=1, persistent_workers=True)\n",
    "\n",
    "\n",
    "optimizer = optim.AdamW(vpsde.parameters(), lr=TRAIN_CONFIG[\"learning_rate\"], weight_decay=TRAIN_CONFIG[\"weight_decay\"])\n",
    "\n",
    "# Define Learning Rate Scheduler\n",
    "if TRAIN_CONFIG[\"scheduler\"] == \"linear\":\n",
    "    lr_lambda = lambda t: 1 - (t / TRAIN_CONFIG[\"epochs\"])\n",
    "elif TRAIN_CONFIG[\"scheduler\"] == \"cosine\":\n",
    "    lr_lambda = lambda t: (1 + math.cos(math.pi * t / TRAIN_CONFIG[\"epochs\"])) / 2\n",
    "elif TRAIN_CONFIG[\"scheduler\"] == \"exponential\":\n",
    "    lr_lambda = lambda t: math.exp(-7 * (t / TRAIN_CONFIG[\"epochs\"]) ** 2)\n",
    "else:\n",
    "    raise ValueError(\"Invalid scheduler type\")\n",
    "\n",
    "scheduler = optim.lr_scheduler.LambdaLR(optimizer, lr_lambda=lr_lambda)\n",
    "\n",
    "all_losses_train = []\n",
    "all_losses_valid = []\n",
    "for epoch in (bar := trange(TRAIN_CONFIG[\"epochs\"], ncols=88)):\n",
    "    losses_train = []\n",
    "    losses_valid = []\n",
    "\n",
    "    # Training\n",
    "    vpsde.train()\n",
    "    for i, (batch, _) in enumerate(trainloader):\n",
    "        if torch.isnan(batch).any():\n",
    "            raise ValueError(\"batch contains NaN values!\")\n",
    "        batch = batch.to(device)\n",
    "        optimizer.zero_grad()\n",
    "\n",
    "        # Mask\n",
    "        mask_batch = mask.to(device).expand_as(batch)\n",
    "        w = mask_batch.float()\n",
    "\n",
    "\n",
    "        loss = vpsde.loss(batch, w=w)\n",
    "        loss.backward()\n",
    "        optimizer.step()\n",
    "\n",
    "        losses_train.append(loss.detach())\n",
    "\n",
    "    # Evaluation\n",
    "    vpsde.eval()\n",
    "    with torch.no_grad():\n",
    "        for batch, _ in validloader:\n",
    "            batch = batch.to(device)\n",
    "            mask_batch = mask.to(device).expand_as(batch)\n",
    "            w = mask_batch.float()\n",
    "\n",
    "            loss = vpsde.loss(batch, w=w)\n",
    "            losses_valid.append(loss)\n",
    "\n",
    "    loss_train = torch.stack(losses_train).mean().item()\n",
    "    loss_valid = torch.stack(losses_valid).mean().item()\n",
    "    print(f\"Train Loss : {loss_train}, Valid Loss : {loss_valid}\")\n",
    "    lr = optimizer.param_groups[0]['lr']\n",
    "    wandb.log({\"Train Loss\" : loss_train, \"Valid Loss\" : loss_valid, \"lr\" : lr})\n",
    "    all_losses_train.append(loss_train)\n",
    "    all_losses_valid.append(loss_valid)\n",
    "\n",
    "    scheduler.step()"
   ],
   "id": "148a48cdf5035725",
   "outputs": [
    {
     "name": "stderr",
     "output_type": "stream",
     "text": [
      "Failed to detect the name of this notebook, you can set it manually with the WANDB_NOTEBOOK_NAME environment variable to enable code saving.\n",
      "\u001B[34m\u001B[1mwandb\u001B[0m: Currently logged in as: \u001B[33mmaximetemoschenko\u001B[0m (\u001B[33mmaximetemoschenko-university-of-li-ge\u001B[0m) to \u001B[32mhttps://api.wandb.ai\u001B[0m. Use \u001B[1m`wandb login --relogin`\u001B[0m to force relogin\n",
      "\u001B[34m\u001B[1mwandb\u001B[0m: Using wandb-core as the SDK backend.  Please refer to https://wandb.me/wandb-core for more information.\n"
     ]
    },
    {
     "data": {
      "text/plain": [
       "<IPython.core.display.HTML object>"
      ],
      "text/html": [
       "Tracking run with wandb version 0.19.6"
      ]
     },
     "metadata": {},
     "output_type": "display_data"
    },
    {
     "data": {
      "text/plain": [
       "<IPython.core.display.HTML object>"
      ],
      "text/html": [
       "Run data is saved locally in <code>/home/mtemoschenko/TFE/wandb/run-20250210_164206-gnq45uty</code>"
      ]
     },
     "metadata": {},
     "output_type": "display_data"
    },
    {
     "data": {
      "text/plain": [
       "<IPython.core.display.HTML object>"
      ],
      "text/html": [
       "Syncing run <strong><a href='https://wandb.ai/maximetemoschenko-university-of-li-ge/Denoiser-Training/runs/gnq45uty' target=\"_blank\">dainty-firefly-27</a></strong> to <a href='https://wandb.ai/maximetemoschenko-university-of-li-ge/Denoiser-Training' target=\"_blank\">Weights & Biases</a> (<a href='https://wandb.me/developer-guide' target=\"_blank\">docs</a>)<br>"
      ]
     },
     "metadata": {},
     "output_type": "display_data"
    },
    {
     "data": {
      "text/plain": [
       "<IPython.core.display.HTML object>"
      ],
      "text/html": [
       " View project at <a href='https://wandb.ai/maximetemoschenko-university-of-li-ge/Denoiser-Training' target=\"_blank\">https://wandb.ai/maximetemoschenko-university-of-li-ge/Denoiser-Training</a>"
      ]
     },
     "metadata": {},
     "output_type": "display_data"
    },
    {
     "data": {
      "text/plain": [
       "<IPython.core.display.HTML object>"
      ],
      "text/html": [
       " View run at <a href='https://wandb.ai/maximetemoschenko-university-of-li-ge/Denoiser-Training/runs/gnq45uty' target=\"_blank\">https://wandb.ai/maximetemoschenko-university-of-li-ge/Denoiser-Training/runs/gnq45uty</a>"
      ]
     },
     "metadata": {},
     "output_type": "display_data"
    },
    {
     "name": "stderr",
     "output_type": "stream",
     "text": [
      "  1%|▍                                              | 1/100 [11:45<19:23:21, 705.07s/it]"
     ]
    },
    {
     "name": "stdout",
     "output_type": "stream",
     "text": [
      "Train Loss : 0.16507048904895782, Valid Loss : 0.08321784436702728\n"
     ]
    },
    {
     "name": "stderr",
     "output_type": "stream",
     "text": [
      "  2%|▉                                              | 2/100 [23:34<19:15:43, 707.59s/it]"
     ]
    },
    {
     "name": "stdout",
     "output_type": "stream",
     "text": [
      "Train Loss : 0.07513754814863205, Valid Loss : 0.0738292932510376\n"
     ]
    },
    {
     "name": "stderr",
     "output_type": "stream",
     "text": [
      "  3%|█▍                                             | 3/100 [35:03<18:50:29, 699.27s/it]"
     ]
    },
    {
     "name": "stdout",
     "output_type": "stream",
     "text": [
      "Train Loss : 0.06775123625993729, Valid Loss : 0.06914680451154709\n"
     ]
    },
    {
     "name": "stderr",
     "output_type": "stream",
     "text": [
      "  4%|█▉                                             | 4/100 [46:30<18:30:44, 694.22s/it]"
     ]
    },
    {
     "name": "stdout",
     "output_type": "stream",
     "text": [
      "Train Loss : 0.06351489573717117, Valid Loss : 0.058503881096839905\n"
     ]
    },
    {
     "name": "stderr",
     "output_type": "stream",
     "text": [
      "  5%|██▎                                            | 5/100 [57:46<18:08:40, 687.58s/it]"
     ]
    },
    {
     "name": "stdout",
     "output_type": "stream",
     "text": [
      "Train Loss : 0.05676239728927612, Valid Loss : 0.0544181689620018\n"
     ]
    },
    {
     "name": "stderr",
     "output_type": "stream",
     "text": [
      "  6%|██▋                                          | 6/100 [1:09:00<17:49:58, 682.96s/it]"
     ]
    },
    {
     "name": "stdout",
     "output_type": "stream",
     "text": [
      "Train Loss : 0.052769992500543594, Valid Loss : 0.05280452221632004\n"
     ]
    },
    {
     "name": "stderr",
     "output_type": "stream",
     "text": [
      "  7%|███▏                                         | 7/100 [1:20:50<17:52:21, 691.85s/it]"
     ]
    },
    {
     "name": "stdout",
     "output_type": "stream",
     "text": [
      "Train Loss : 0.052800726145505905, Valid Loss : 0.05458290874958038\n"
     ]
    },
    {
     "name": "stderr",
     "output_type": "stream",
     "text": [
      "  8%|███▌                                         | 8/100 [1:32:22<17:41:14, 692.12s/it]"
     ]
    },
    {
     "name": "stdout",
     "output_type": "stream",
     "text": [
      "Train Loss : 0.049385812133550644, Valid Loss : 0.04931151494383812\n"
     ]
    },
    {
     "name": "stderr",
     "output_type": "stream",
     "text": [
      "  9%|████                                         | 9/100 [1:44:10<17:37:11, 697.05s/it]"
     ]
    },
    {
     "name": "stdout",
     "output_type": "stream",
     "text": [
      "Train Loss : 0.047378089278936386, Valid Loss : 0.048936981707811356\n"
     ]
    },
    {
     "name": "stderr",
     "output_type": "stream",
     "text": [
      " 10%|████▍                                       | 10/100 [1:55:46<17:25:02, 696.70s/it]"
     ]
    },
    {
     "name": "stdout",
     "output_type": "stream",
     "text": [
      "Train Loss : 0.04762216657400131, Valid Loss : 0.04668865352869034\n"
     ]
    },
    {
     "name": "stderr",
     "output_type": "stream",
     "text": [
      " 11%|████▊                                       | 11/100 [2:07:58<17:29:10, 707.31s/it]"
     ]
    },
    {
     "name": "stdout",
     "output_type": "stream",
     "text": [
      "Train Loss : 0.045632023364305496, Valid Loss : 0.047235216945409775\n"
     ]
    },
    {
     "name": "stderr",
     "output_type": "stream",
     "text": [
      " 12%|█████▎                                      | 12/100 [2:19:48<17:18:53, 708.33s/it]"
     ]
    },
    {
     "name": "stdout",
     "output_type": "stream",
     "text": [
      "Train Loss : 0.048536792397499084, Valid Loss : 0.05029401555657387\n"
     ]
    },
    {
     "name": "stderr",
     "output_type": "stream",
     "text": [
      " 13%|█████▋                                      | 13/100 [2:31:35<17:06:21, 707.83s/it]"
     ]
    },
    {
     "name": "stdout",
     "output_type": "stream",
     "text": [
      "Train Loss : 0.04591602459549904, Valid Loss : 0.04756378009915352\n"
     ]
    },
    {
     "name": "stderr",
     "output_type": "stream",
     "text": [
      " 14%|██████▏                                     | 14/100 [2:43:32<16:58:43, 710.74s/it]"
     ]
    },
    {
     "name": "stdout",
     "output_type": "stream",
     "text": [
      "Train Loss : 0.046554483473300934, Valid Loss : 0.045975349843502045\n"
     ]
    },
    {
     "name": "stderr",
     "output_type": "stream",
     "text": [
      " 15%|██████▌                                     | 15/100 [2:54:24<16:21:39, 692.93s/it]"
     ]
    },
    {
     "name": "stdout",
     "output_type": "stream",
     "text": [
      "Train Loss : 0.042621564120054245, Valid Loss : 0.04656810313463211\n"
     ]
    },
    {
     "name": "stderr",
     "output_type": "stream",
     "text": [
      " 16%|███████                                     | 16/100 [3:05:10<15:50:25, 678.87s/it]"
     ]
    },
    {
     "name": "stdout",
     "output_type": "stream",
     "text": [
      "Train Loss : 0.043454524129629135, Valid Loss : 0.04502851516008377\n"
     ]
    },
    {
     "name": "stderr",
     "output_type": "stream",
     "text": [
      " 17%|███████▍                                    | 17/100 [3:15:58<15:25:56, 669.35s/it]"
     ]
    },
    {
     "name": "stdout",
     "output_type": "stream",
     "text": [
      "Train Loss : 0.04466931149363518, Valid Loss : 0.04540649428963661\n"
     ]
    },
    {
     "name": "stderr",
     "output_type": "stream",
     "text": [
      " 18%|███████▉                                    | 18/100 [3:27:03<15:13:20, 668.30s/it]"
     ]
    },
    {
     "name": "stdout",
     "output_type": "stream",
     "text": [
      "Train Loss : 0.04189338907599449, Valid Loss : 0.0431278832256794\n"
     ]
    },
    {
     "name": "stderr",
     "output_type": "stream",
     "text": [
      " 19%|████████▎                                   | 19/100 [3:38:08<15:00:50, 667.29s/it]"
     ]
    },
    {
     "name": "stdout",
     "output_type": "stream",
     "text": [
      "Train Loss : 0.04363381862640381, Valid Loss : 0.04191410541534424\n"
     ]
    },
    {
     "name": "stderr",
     "output_type": "stream",
     "text": [
      " 20%|████████▊                                   | 20/100 [3:50:55<15:29:32, 697.16s/it]"
     ]
    },
    {
     "name": "stdout",
     "output_type": "stream",
     "text": [
      "Train Loss : 0.04421737417578697, Valid Loss : 0.04387398436665535\n"
     ]
    },
    {
     "name": "stderr",
     "output_type": "stream",
     "text": [
      " 21%|█████████▏                                  | 21/100 [4:02:39<15:20:42, 699.27s/it]"
     ]
    },
    {
     "name": "stdout",
     "output_type": "stream",
     "text": [
      "Train Loss : 0.04190685972571373, Valid Loss : 0.040822584182024\n"
     ]
    },
    {
     "name": "stderr",
     "output_type": "stream",
     "text": [
      " 22%|█████████▋                                  | 22/100 [4:13:55<14:59:55, 692.25s/it]"
     ]
    },
    {
     "name": "stdout",
     "output_type": "stream",
     "text": [
      "Train Loss : 0.04316597059369087, Valid Loss : 0.043615031987428665\n"
     ]
    },
    {
     "name": "stderr",
     "output_type": "stream",
     "text": [
      " 23%|██████████                                  | 23/100 [4:25:32<14:50:20, 693.77s/it]"
     ]
    },
    {
     "name": "stdout",
     "output_type": "stream",
     "text": [
      "Train Loss : 0.041117649525403976, Valid Loss : 0.04174957424402237\n"
     ]
    },
    {
     "name": "stderr",
     "output_type": "stream",
     "text": [
      " 24%|██████████▌                                 | 24/100 [4:36:45<14:30:50, 687.51s/it]"
     ]
    },
    {
     "name": "stdout",
     "output_type": "stream",
     "text": [
      "Train Loss : 0.0431801900267601, Valid Loss : 0.04206399992108345\n"
     ]
    },
    {
     "name": "stderr",
     "output_type": "stream",
     "text": [
      " 25%|███████████                                 | 25/100 [4:48:25<14:24:01, 691.22s/it]"
     ]
    },
    {
     "name": "stdout",
     "output_type": "stream",
     "text": [
      "Train Loss : 0.03997907415032387, Valid Loss : 0.04187668859958649\n"
     ]
    },
    {
     "name": "stderr",
     "output_type": "stream",
     "text": [
      " 26%|███████████▍                                | 26/100 [4:59:42<14:07:10, 686.90s/it]"
     ]
    },
    {
     "name": "stdout",
     "output_type": "stream",
     "text": [
      "Train Loss : 0.040351465344429016, Valid Loss : 0.04386770352721214\n"
     ]
    },
    {
     "name": "stderr",
     "output_type": "stream",
     "text": [
      " 27%|███████████▉                                | 27/100 [5:11:06<13:54:38, 686.01s/it]"
     ]
    },
    {
     "name": "stdout",
     "output_type": "stream",
     "text": [
      "Train Loss : 0.041152238845825195, Valid Loss : 0.04072453826665878\n"
     ]
    },
    {
     "name": "stderr",
     "output_type": "stream",
     "text": [
      " 28%|████████████▎                               | 28/100 [5:22:32<13:43:09, 685.97s/it]"
     ]
    },
    {
     "name": "stdout",
     "output_type": "stream",
     "text": [
      "Train Loss : 0.04182692989706993, Valid Loss : 0.04120680317282677\n"
     ]
    },
    {
     "name": "stderr",
     "output_type": "stream",
     "text": [
      " 29%|████████████▊                               | 29/100 [5:34:53<13:51:16, 702.49s/it]"
     ]
    },
    {
     "name": "stdout",
     "output_type": "stream",
     "text": [
      "Train Loss : 0.04305804520845413, Valid Loss : 0.04631144925951958\n"
     ]
    },
    {
     "name": "stderr",
     "output_type": "stream",
     "text": [
      " 30%|█████████████▏                              | 30/100 [5:46:35<13:39:36, 702.52s/it]"
     ]
    },
    {
     "name": "stdout",
     "output_type": "stream",
     "text": [
      "Train Loss : 0.03827600181102753, Valid Loss : 0.04133784398436546\n"
     ]
    },
    {
     "name": "stderr",
     "output_type": "stream",
     "text": [
      " 31%|█████████████▋                              | 31/100 [5:57:58<13:20:55, 696.46s/it]"
     ]
    },
    {
     "name": "stdout",
     "output_type": "stream",
     "text": [
      "Train Loss : 0.03890899196267128, Valid Loss : 0.052568528801202774\n"
     ]
    },
    {
     "name": "stderr",
     "output_type": "stream",
     "text": [
      " 32%|██████████████                              | 32/100 [6:08:52<12:54:49, 683.66s/it]"
     ]
    },
    {
     "name": "stdout",
     "output_type": "stream",
     "text": [
      "Train Loss : 0.03988238051533699, Valid Loss : 0.04103761538863182\n"
     ]
    },
    {
     "name": "stderr",
     "output_type": "stream",
     "text": [
      " 33%|██████████████▌                             | 33/100 [6:19:57<12:37:14, 678.12s/it]"
     ]
    },
    {
     "name": "stdout",
     "output_type": "stream",
     "text": [
      "Train Loss : 0.03923150897026062, Valid Loss : 0.041215118020772934\n"
     ]
    },
    {
     "name": "stderr",
     "output_type": "stream",
     "text": [
      " 34%|██████████████▉                             | 34/100 [6:31:13<12:25:14, 677.50s/it]"
     ]
    },
    {
     "name": "stdout",
     "output_type": "stream",
     "text": [
      "Train Loss : 0.041178587824106216, Valid Loss : 0.041063446551561356\n"
     ]
    },
    {
     "name": "stderr",
     "output_type": "stream",
     "text": [
      " 35%|███████████████▍                            | 35/100 [6:42:46<12:18:56, 682.09s/it]"
     ]
    },
    {
     "name": "stdout",
     "output_type": "stream",
     "text": [
      "Train Loss : 0.039860282093286514, Valid Loss : 0.040924958884716034\n"
     ]
    },
    {
     "name": "stderr",
     "output_type": "stream",
     "text": [
      " 36%|███████████████▊                            | 36/100 [6:54:16<12:10:17, 684.65s/it]"
     ]
    },
    {
     "name": "stdout",
     "output_type": "stream",
     "text": [
      "Train Loss : 0.041469622403383255, Valid Loss : 0.04009104147553444\n"
     ]
    },
    {
     "name": "stderr",
     "output_type": "stream",
     "text": [
      " 37%|████████████████▎                           | 37/100 [7:05:38<11:58:01, 683.83s/it]"
     ]
    },
    {
     "name": "stdout",
     "output_type": "stream",
     "text": [
      "Train Loss : 0.04164645075798035, Valid Loss : 0.039128147065639496\n"
     ]
    },
    {
     "name": "stderr",
     "output_type": "stream",
     "text": [
      " 38%|████████████████▋                           | 38/100 [7:17:05<11:47:24, 684.59s/it]"
     ]
    },
    {
     "name": "stdout",
     "output_type": "stream",
     "text": [
      "Train Loss : 0.0378439761698246, Valid Loss : 0.044132549315690994\n"
     ]
    },
    {
     "name": "stderr",
     "output_type": "stream",
     "text": [
      " 39%|█████████████████▏                          | 39/100 [7:28:33<11:37:02, 685.61s/it]"
     ]
    },
    {
     "name": "stdout",
     "output_type": "stream",
     "text": [
      "Train Loss : 0.03924432396888733, Valid Loss : 0.03861412778496742\n"
     ]
    },
    {
     "name": "stderr",
     "output_type": "stream",
     "text": [
      " 40%|█████████████████▌                          | 40/100 [7:39:49<11:22:47, 682.79s/it]"
     ]
    },
    {
     "name": "stdout",
     "output_type": "stream",
     "text": [
      "Train Loss : 0.040736082941293716, Valid Loss : 0.03986037150025368\n"
     ]
    },
    {
     "name": "stderr",
     "output_type": "stream",
     "text": [
      " 41%|██████████████████                          | 41/100 [7:50:55<11:06:36, 677.90s/it]"
     ]
    },
    {
     "name": "stdout",
     "output_type": "stream",
     "text": [
      "Train Loss : 0.04041498526930809, Valid Loss : 0.03989219292998314\n"
     ]
    },
    {
     "name": "stderr",
     "output_type": "stream",
     "text": [
      " 42%|██████████████████▍                         | 42/100 [8:01:56<10:50:14, 672.67s/it]"
     ]
    },
    {
     "name": "stdout",
     "output_type": "stream",
     "text": [
      "Train Loss : 0.04014969617128372, Valid Loss : 0.039212316274642944\n"
     ]
    },
    {
     "name": "stderr",
     "output_type": "stream",
     "text": [
      " 43%|██████████████████▉                         | 43/100 [8:13:25<10:43:38, 677.52s/it]"
     ]
    },
    {
     "name": "stdout",
     "output_type": "stream",
     "text": [
      "Train Loss : 0.03877004235982895, Valid Loss : 0.040858879685401917\n"
     ]
    },
    {
     "name": "stderr",
     "output_type": "stream",
     "text": [
      " 44%|███████████████████▎                        | 44/100 [8:24:57<10:36:29, 681.96s/it]"
     ]
    },
    {
     "name": "stdout",
     "output_type": "stream",
     "text": [
      "Train Loss : 0.039614297449588776, Valid Loss : 0.03796130418777466\n"
     ]
    },
    {
     "name": "stderr",
     "output_type": "stream",
     "text": [
      " 45%|███████████████████▊                        | 45/100 [8:36:29<10:27:51, 684.94s/it]"
     ]
    },
    {
     "name": "stdout",
     "output_type": "stream",
     "text": [
      "Train Loss : 0.03984260931611061, Valid Loss : 0.04112599790096283\n"
     ]
    },
    {
     "name": "stderr",
     "output_type": "stream",
     "text": [
      " 46%|████████████████████▏                       | 46/100 [8:47:53<10:16:07, 684.58s/it]"
     ]
    },
    {
     "name": "stdout",
     "output_type": "stream",
     "text": [
      "Train Loss : 0.036839552223682404, Valid Loss : 0.04025435820221901\n"
     ]
    },
    {
     "name": "stderr",
     "output_type": "stream",
     "text": [
      " 47%|████████████████████▋                       | 47/100 [8:59:20<10:05:22, 685.32s/it]"
     ]
    },
    {
     "name": "stdout",
     "output_type": "stream",
     "text": [
      "Train Loss : 0.03901435807347298, Valid Loss : 0.03791208192706108\n"
     ]
    },
    {
     "name": "stderr",
     "output_type": "stream",
     "text": [
      " 48%|█████████████████████▌                       | 48/100 [9:10:30<9:50:06, 680.90s/it]"
     ]
    },
    {
     "name": "stdout",
     "output_type": "stream",
     "text": [
      "Train Loss : 0.036980003118515015, Valid Loss : 0.03931787237524986\n"
     ]
    },
    {
     "name": "stderr",
     "output_type": "stream",
     "text": [
      " 49%|██████████████████████                       | 49/100 [9:21:28<9:32:48, 673.88s/it]"
     ]
    },
    {
     "name": "stdout",
     "output_type": "stream",
     "text": [
      "Train Loss : 0.040179599076509476, Valid Loss : 0.041021328419446945\n"
     ]
    },
    {
     "name": "stderr",
     "output_type": "stream",
     "text": [
      " 50%|██████████████████████▌                      | 50/100 [9:32:29<9:18:27, 670.15s/it]"
     ]
    },
    {
     "name": "stdout",
     "output_type": "stream",
     "text": [
      "Train Loss : 0.03946249559521675, Valid Loss : 0.04538380354642868\n"
     ]
    },
    {
     "name": "stderr",
     "output_type": "stream",
     "text": [
      " 51%|██████████████████████▉                      | 51/100 [9:43:45<9:08:47, 671.98s/it]"
     ]
    },
    {
     "name": "stdout",
     "output_type": "stream",
     "text": [
      "Train Loss : 0.037767183035612106, Valid Loss : 0.039730533957481384\n"
     ]
    },
    {
     "name": "stderr",
     "output_type": "stream",
     "text": [
      " 52%|███████████████████████▍                     | 52/100 [9:55:08<9:00:03, 675.08s/it]"
     ]
    },
    {
     "name": "stdout",
     "output_type": "stream",
     "text": [
      "Train Loss : 0.037779949605464935, Valid Loss : 0.04030149057507515\n"
     ]
    },
    {
     "name": "stderr",
     "output_type": "stream",
     "text": [
      " 53%|███████████████████████▎                    | 53/100 [10:06:09<8:45:31, 670.89s/it]"
     ]
    },
    {
     "name": "stdout",
     "output_type": "stream",
     "text": [
      "Train Loss : 0.037178535014390945, Valid Loss : 0.038412775844335556\n"
     ]
    },
    {
     "name": "stderr",
     "output_type": "stream",
     "text": [
      " 54%|███████████████████████▊                    | 54/100 [10:17:11<8:32:21, 668.29s/it]"
     ]
    },
    {
     "name": "stdout",
     "output_type": "stream",
     "text": [
      "Train Loss : 0.038131020963191986, Valid Loss : 0.04113869369029999\n"
     ]
    },
    {
     "name": "stderr",
     "output_type": "stream",
     "text": [
      " 55%|████████████████████████▏                   | 55/100 [10:28:29<8:23:25, 671.24s/it]"
     ]
    },
    {
     "name": "stdout",
     "output_type": "stream",
     "text": [
      "Train Loss : 0.03764781728386879, Valid Loss : 0.04037613049149513\n"
     ]
    },
    {
     "name": "stderr",
     "output_type": "stream",
     "text": [
      " 56%|████████████████████████▋                   | 56/100 [10:39:45<8:13:15, 672.63s/it]"
     ]
    },
    {
     "name": "stdout",
     "output_type": "stream",
     "text": [
      "Train Loss : 0.03785198926925659, Valid Loss : 0.037486180663108826\n"
     ]
    },
    {
     "name": "stderr",
     "output_type": "stream",
     "text": [
      " 57%|█████████████████████████                   | 57/100 [10:51:07<8:04:02, 675.41s/it]"
     ]
    },
    {
     "name": "stdout",
     "output_type": "stream",
     "text": [
      "Train Loss : 0.0361933596432209, Valid Loss : 0.03908877819776535\n"
     ]
    },
    {
     "name": "stderr",
     "output_type": "stream",
     "text": [
      " 58%|█████████████████████████▌                  | 58/100 [11:02:25<7:53:15, 676.09s/it]"
     ]
    },
    {
     "name": "stdout",
     "output_type": "stream",
     "text": [
      "Train Loss : 0.03597620129585266, Valid Loss : 0.038946110755205154\n"
     ]
    },
    {
     "name": "stderr",
     "output_type": "stream",
     "text": [
      " 59%|█████████████████████████▉                  | 59/100 [11:13:47<7:43:20, 678.07s/it]"
     ]
    },
    {
     "name": "stdout",
     "output_type": "stream",
     "text": [
      "Train Loss : 0.03907674178481102, Valid Loss : 0.04119354858994484\n"
     ]
    },
    {
     "name": "stderr",
     "output_type": "stream",
     "text": [
      " 60%|██████████████████████████▍                 | 60/100 [11:25:13<7:33:33, 680.34s/it]"
     ]
    },
    {
     "name": "stdout",
     "output_type": "stream",
     "text": [
      "Train Loss : 0.0379316583275795, Valid Loss : 0.03873194754123688\n"
     ]
    },
    {
     "name": "stderr",
     "output_type": "stream",
     "text": [
      " 61%|██████████████████████████▊                 | 61/100 [11:36:37<7:22:59, 681.53s/it]"
     ]
    },
    {
     "name": "stdout",
     "output_type": "stream",
     "text": [
      "Train Loss : 0.036116670817136765, Valid Loss : 0.03666699305176735\n"
     ]
    },
    {
     "name": "stderr",
     "output_type": "stream",
     "text": [
      " 62%|███████████████████████████▎                | 62/100 [11:47:59<7:11:41, 681.62s/it]"
     ]
    },
    {
     "name": "stdout",
     "output_type": "stream",
     "text": [
      "Train Loss : 0.03788908198475838, Valid Loss : 0.03947479650378227\n"
     ]
    },
    {
     "name": "stderr",
     "output_type": "stream",
     "text": [
      " 63%|███████████████████████████▋                | 63/100 [11:59:27<7:01:32, 683.58s/it]"
     ]
    },
    {
     "name": "stdout",
     "output_type": "stream",
     "text": [
      "Train Loss : 0.037553369998931885, Valid Loss : 0.03827142342925072\n"
     ]
    },
    {
     "name": "stderr",
     "output_type": "stream",
     "text": [
      " 64%|████████████████████████████▏               | 64/100 [12:10:51<6:50:16, 683.79s/it]"
     ]
    },
    {
     "name": "stdout",
     "output_type": "stream",
     "text": [
      "Train Loss : 0.03895605355501175, Valid Loss : 0.03867697715759277\n"
     ]
    },
    {
     "name": "stderr",
     "output_type": "stream",
     "text": [
      " 65%|████████████████████████████▌               | 65/100 [12:22:18<6:39:21, 684.62s/it]"
     ]
    },
    {
     "name": "stdout",
     "output_type": "stream",
     "text": [
      "Train Loss : 0.03863588720560074, Valid Loss : 0.0370652936398983\n"
     ]
    },
    {
     "name": "stderr",
     "output_type": "stream",
     "text": [
      " 66%|█████████████████████████████               | 66/100 [12:33:17<6:23:36, 676.96s/it]"
     ]
    },
    {
     "name": "stdout",
     "output_type": "stream",
     "text": [
      "Train Loss : 0.036042097955942154, Valid Loss : 0.04035934805870056\n"
     ]
    },
    {
     "name": "stderr",
     "output_type": "stream",
     "text": [
      " 67%|█████████████████████████████▍              | 67/100 [12:44:19<6:09:52, 672.49s/it]"
     ]
    },
    {
     "name": "stdout",
     "output_type": "stream",
     "text": [
      "Train Loss : 0.03702633082866669, Valid Loss : 0.037219781428575516\n"
     ]
    },
    {
     "name": "stderr",
     "output_type": "stream",
     "text": [
      " 68%|█████████████████████████████▉              | 68/100 [12:55:42<6:00:17, 675.54s/it]"
     ]
    },
    {
     "name": "stdout",
     "output_type": "stream",
     "text": [
      "Train Loss : 0.037606172263622284, Valid Loss : 0.03857112675905228\n"
     ]
    },
    {
     "name": "stderr",
     "output_type": "stream",
     "text": [
      " 69%|██████████████████████████████▎             | 69/100 [13:07:04<5:50:06, 677.63s/it]"
     ]
    },
    {
     "name": "stdout",
     "output_type": "stream",
     "text": [
      "Train Loss : 0.03603079542517662, Valid Loss : 0.038154058158397675\n"
     ]
    },
    {
     "name": "stderr",
     "output_type": "stream",
     "text": [
      " 70%|██████████████████████████████▊             | 70/100 [13:18:15<5:37:42, 675.42s/it]"
     ]
    },
    {
     "name": "stdout",
     "output_type": "stream",
     "text": [
      "Train Loss : 0.03699027746915817, Valid Loss : 0.03675923869013786\n"
     ]
    },
    {
     "name": "stderr",
     "output_type": "stream",
     "text": [
      " 71%|███████████████████████████████▏            | 71/100 [13:29:35<5:27:09, 676.87s/it]"
     ]
    },
    {
     "name": "stdout",
     "output_type": "stream",
     "text": [
      "Train Loss : 0.03652896732091904, Valid Loss : 0.03826969116926193\n"
     ]
    },
    {
     "name": "stderr",
     "output_type": "stream",
     "text": [
      " 72%|███████████████████████████████▋            | 72/100 [13:40:47<5:15:09, 675.35s/it]"
     ]
    },
    {
     "name": "stdout",
     "output_type": "stream",
     "text": [
      "Train Loss : 0.03653285279870033, Valid Loss : 0.037574365735054016\n"
     ]
    },
    {
     "name": "stderr",
     "output_type": "stream",
     "text": [
      " 73%|████████████████████████████████            | 73/100 [13:52:10<5:04:57, 677.70s/it]"
     ]
    },
    {
     "name": "stdout",
     "output_type": "stream",
     "text": [
      "Train Loss : 0.035995230078697205, Valid Loss : 0.03847547993063927\n"
     ]
    },
    {
     "name": "stderr",
     "output_type": "stream",
     "text": [
      " 74%|████████████████████████████████▌           | 74/100 [14:03:28<4:53:45, 677.89s/it]"
     ]
    },
    {
     "name": "stdout",
     "output_type": "stream",
     "text": [
      "Train Loss : 0.03644281625747681, Valid Loss : 0.038209691643714905\n"
     ]
    },
    {
     "name": "stderr",
     "output_type": "stream",
     "text": [
      " 75%|█████████████████████████████████           | 75/100 [14:14:43<4:42:05, 677.02s/it]"
     ]
    },
    {
     "name": "stdout",
     "output_type": "stream",
     "text": [
      "Train Loss : 0.03594750910997391, Valid Loss : 0.0375402569770813\n"
     ]
    },
    {
     "name": "stderr",
     "output_type": "stream",
     "text": [
      " 76%|█████████████████████████████████▍          | 76/100 [14:25:54<4:30:02, 675.10s/it]"
     ]
    },
    {
     "name": "stdout",
     "output_type": "stream",
     "text": [
      "Train Loss : 0.036576077342033386, Valid Loss : 0.03735453262925148\n"
     ]
    },
    {
     "name": "stderr",
     "output_type": "stream",
     "text": [
      " 77%|█████████████████████████████████▉          | 77/100 [14:36:49<4:16:32, 669.23s/it]"
     ]
    },
    {
     "name": "stdout",
     "output_type": "stream",
     "text": [
      "Train Loss : 0.03612648323178291, Valid Loss : 0.040269576013088226\n"
     ]
    },
    {
     "name": "stderr",
     "output_type": "stream",
     "text": [
      " 78%|██████████████████████████████████▎         | 78/100 [14:47:36<4:02:53, 662.42s/it]"
     ]
    },
    {
     "name": "stdout",
     "output_type": "stream",
     "text": [
      "Train Loss : 0.034618549048900604, Valid Loss : 0.03601829335093498\n"
     ]
    },
    {
     "name": "stderr",
     "output_type": "stream",
     "text": [
      " 79%|██████████████████████████████████▊         | 79/100 [14:58:30<3:50:59, 659.96s/it]"
     ]
    },
    {
     "name": "stdout",
     "output_type": "stream",
     "text": [
      "Train Loss : 0.035053666681051254, Valid Loss : 0.03748385235667229\n"
     ]
    },
    {
     "name": "stderr",
     "output_type": "stream",
     "text": [
      " 80%|███████████████████████████████████▏        | 80/100 [15:09:31<3:40:07, 660.36s/it]"
     ]
    },
    {
     "name": "stdout",
     "output_type": "stream",
     "text": [
      "Train Loss : 0.035842835903167725, Valid Loss : 0.03743709996342659\n"
     ]
    },
    {
     "name": "stderr",
     "output_type": "stream",
     "text": [
      " 81%|███████████████████████████████████▋        | 81/100 [15:20:29<3:28:53, 659.65s/it]"
     ]
    },
    {
     "name": "stdout",
     "output_type": "stream",
     "text": [
      "Train Loss : 0.035699859261512756, Valid Loss : 0.03825931251049042\n"
     ]
    },
    {
     "name": "stderr",
     "output_type": "stream",
     "text": [
      " 82%|████████████████████████████████████        | 82/100 [15:31:25<3:17:29, 658.31s/it]"
     ]
    },
    {
     "name": "stdout",
     "output_type": "stream",
     "text": [
      "Train Loss : 0.03490044176578522, Valid Loss : 0.03584885597229004\n"
     ]
    },
    {
     "name": "stderr",
     "output_type": "stream",
     "text": [
      " 83%|████████████████████████████████████▌       | 83/100 [15:42:29<3:07:03, 660.23s/it]"
     ]
    },
    {
     "name": "stdout",
     "output_type": "stream",
     "text": [
      "Train Loss : 0.035887159407138824, Valid Loss : 0.03718843683600426\n"
     ]
    },
    {
     "name": "stderr",
     "output_type": "stream",
     "text": [
      " 84%|████████████████████████████████████▉       | 84/100 [15:53:52<2:57:53, 667.12s/it]"
     ]
    },
    {
     "name": "stdout",
     "output_type": "stream",
     "text": [
      "Train Loss : 0.03603610768914223, Valid Loss : 0.03701970726251602\n"
     ]
    }
   ],
   "execution_count": null
  },
  {
   "metadata": {
    "ExecuteTime": {
     "end_time": "2025-02-07T10:27:41.700145Z",
     "start_time": "2025-02-07T10:27:41.498734Z"
    }
   },
   "cell_type": "code",
   "source": [
    "import matplotlib.pyplot as plt\n",
    "\n",
    "\n",
    "epochs = list(range(1, len(all_losses_train) + 1))\n",
    "\n",
    "\n",
    "plt.figure(figsize=(8, 5))\n",
    "plt.plot(epochs, all_losses_train, label=\"Train Loss\", marker=\"o\", linestyle=\"-\")\n",
    "plt.plot(epochs, all_losses_valid, label=\"Validation Loss\", marker=\"s\", linestyle=\"-\")\n",
    "\n",
    "plt.xlabel(\"Epoch\")\n",
    "plt.ylabel(\"Loss\")\n",
    "plt.title(\"Training and Validation Loss of VPSDE Over Epochs\")\n",
    "plt.ylim(0, 1.5)\n",
    "plt.xlim(0,101)\n",
    "plt.xticks(range(0, 101, 10))\n",
    "plt.legend()\n",
    "plt.grid(True, linestyle=\"--\", alpha=0.6)\n",
    "plt.show()"
   ],
   "id": "db86cfdf1a87123",
   "outputs": [
    {
     "data": {
      "text/plain": [
       "<Figure size 800x500 with 1 Axes>"
      ],
      "image/png": "[encoded data removed]"
     },
     "metadata": {},
     "output_type": "display_data"
    }
   ],
   "execution_count": 20
  },
  {
   "metadata": {},
   "cell_type": "code",
   "outputs": [],
   "execution_count": null,
   "source": "",
   "id": "b0bf7bf471eadd44"
  }
 ],
 "metadata": {
  "kernelspec": {
   "display_name": "Python 3",
   "language": "python",
   "name": "python3"
  },
  "language_info": {
   "codemirror_mode": {
    "name": "ipython",
    "version": 2
   },
   "file_extension": ".py",
   "mimetype": "text/x-python",
   "name": "python",
   "nbconvert_exporter": "python",
   "pygments_lexer": "ipython2",
   "version": "2.7.6"
  }
 },
 "nbformat": 4,
 "nbformat_minor": 5
}
