{
 "cells": [
  {
   "metadata": {},
   "cell_type": "markdown",
   "source": "<h1> Understand Batch Size Dimensions </h1>",
   "id": "c470209b461cad57"
  },
  {
   "metadata": {
    "ExecuteTime": {
     "end_time": "2025-02-06T09:42:38.821733Z",
     "start_time": "2025-02-06T09:42:37.713070Z"
    }
   },
   "cell_type": "code",
   "source": [
    "from utils import TrajectoryDataset\n",
    "from torch.utils.data import DataLoader\n",
    "from pathlib import Path\n",
    "# See Train Dimensions\n",
    "PATH = Path('.')\n",
    "window= 10\n",
    "batch_size = 5\n",
    "\n",
    "\n",
    "trainset = TrajectoryDataset(PATH / 'data/train.h5', window=window, flatten=True)\n",
    "validset = TrajectoryDataset(PATH / 'data/valid.h5', window=window, flatten=True)\n",
    "trainloader = DataLoader(trainset, batch_size=batch_size, shuffle=True, num_workers=1, persistent_workers=True)\n",
    "validloader = DataLoader(validset, batch_size=batch_size, shuffle=True, num_workers=1, persistent_workers=True)\n",
    "\n",
    "for i, (batch, _) in  enumerate(trainloader):\n",
    "    print(f\"{i} : {batch.shape}\")"
   ],
   "id": "731ef81e92244387",
   "outputs": [
    {
     "name": "stdout",
     "output_type": "stream",
     "text": [
      "0 : torch.Size([5, 40, 128, 128])\n",
      "1 : torch.Size([5, 40, 128, 128])\n",
      "2 : torch.Size([5, 40, 128, 128])\n",
      "3 : torch.Size([5, 40, 128, 128])\n",
      "4 : torch.Size([4, 40, 128, 128])\n"
     ]
    }
   ],
   "execution_count": 34
  },
  {
   "metadata": {},
   "cell_type": "markdown",
   "source": "<h1> Understand UNET dimensions </h1>",
   "id": "264c92a289ed86a2"
  },
  {
   "metadata": {
    "ExecuteTime": {
     "end_time": "2025-02-06T09:34:28.705677Z",
     "start_time": "2025-02-06T09:34:27.330837Z"
    }
   },
   "cell_type": "code",
   "source": [
    "\n",
    "import torch\n",
    "import torch.nn as nn\n",
    "from nn import UNet\n",
    "\n",
    "in_channels = 4\n",
    "out_channels = 4\n",
    "mod_features = 66\n",
    "hidden_channels = [32, 64, 128]\n",
    "hidden_blocks = [2, 3, 5]\n",
    "spatial = 2\n",
    "\n",
    "# UNET Forward : x (B, C, H, W)\n",
    "unet = UNet(\n",
    "    in_channels=in_channels,\n",
    "    out_channels=out_channels,\n",
    "    mod_features=mod_features,\n",
    "    hidden_channels=hidden_channels,\n",
    "    hidden_blocks=hidden_blocks,\n",
    "    spatial=spatial,\n",
    ")\n",
    "\n",
    ")\n",
    "batch_size = 4\n",
    "x = torch.randn(batch_size, in_channels, 128, 128)\n",
    "\n",
    "\n",
    "y = torch.randn(batch_size, mod_features)\n",
    "\n",
    "\n",
    "output = unet(x, y)\n",
    "\n",
    "\n",
    "print(output.shape)"
   ],
   "id": "8820e74e17d9ec46",
   "outputs": [
    {
     "name": "stdout",
     "output_type": "stream",
     "text": [
      "torch.Size([4, 4, 128, 128])\n"
     ]
    }
   ],
   "execution_count": 31
  },
  {
   "metadata": {},
   "cell_type": "markdown",
   "source": "<h1> Understand ScoreUNET dimensions </h1>",
   "id": "82db58fc5afe3d88"
  },
  {
   "metadata": {
    "ExecuteTime": {
     "end_time": "2025-02-06T09:43:45.905104Z",
     "start_time": "2025-02-06T09:43:44.806142Z"
    }
   },
   "cell_type": "code",
   "source": [
    "import torch\n",
    "import torch.nn as nn\n",
    "from score import ScoreUNet\n",
    "batch_size = 5\n",
    "MAR_channels = 4 # Example ['RF', 'T2m', 'U10m', MASK]\n",
    "window = 10\n",
    "y_dim = 128\n",
    "x_dim = 128\n",
    "\n",
    "CONFIG = { 'hidden_channels' : [32, 64, 128],  \\\n",
    "'hidden_blocks' : [2, 3, 5],  \\\n",
    "'spatial' : 2, \\\n",
    "'channels' : window*MAR_channels, \\\n",
    "'context' : 0,\\\n",
    "'embedding' : 64 }\n",
    "\n",
    "\n",
    "score_unet = ScoreUNet(**CONFIG)\n",
    "\n",
    "\n",
    "\n",
    "\n",
    "x = torch.randn([batch_size, window*MAR_channels, y_dim, x_dim]) # because of flatten\n",
    "t = torch.rand(x.shape[0], dtype=x.dtype, device=x.device)\n",
    "\n",
    "print(f\"x:  {x.shape} , t: {t.shape}\")\n",
    "c = None\n",
    "\n",
    "# Forward pass through the ScoreUNet\n",
    "output = score_unet(x, t, c)\n",
    "\n",
    "# Print the output shape\n",
    "print(f\"Output Shape : {output.shape}\")  # Should be (batch_size, channels, x, y)"
   ],
   "id": "143cd78ab32f8ceb",
   "outputs": [
    {
     "name": "stdout",
     "output_type": "stream",
     "text": [
      "x:  torch.Size([5, 40, 128, 128]) , t: torch.Size([5])\n",
      "Output Shape : torch.Size([5, 40, 128, 128])\n"
     ]
    }
   ],
   "execution_count": 35
  },
  {
   "metadata": {},
   "cell_type": "markdown",
   "source": "<h1> Understand VPSDE dimensions </h1>",
   "id": "8a5fa1e72cbf1ead"
  },
  {
   "metadata": {
    "ExecuteTime": {
     "end_time": "2025-02-06T10:22:21.188231Z",
     "start_time": "2025-02-06T10:22:20.551023Z"
    }
   },
   "cell_type": "code",
   "source": [
    "import torch\n",
    "import torch.nn as nn\n",
    "from score import ScoreUNet, VPSDE\n",
    "\n",
    "batch_size = 5\n",
    "MAR_channels = 4 # Example ['RF', 'T2m', 'U10m', MASK]\n",
    "window = 10\n",
    "y_dim = 128\n",
    "x_dim = 128\n",
    "\n",
    "CONFIG = { 'hidden_channels' : [32, 64, 128],  \\\n",
    "'hidden_blocks' : [2, 3, 5],  \\\n",
    "'spatial' : 2, \\\n",
    "'channels' : window*MAR_channels, \\\n",
    "'context' : 0,\\\n",
    "'embedding' : 64,\\\n",
    "}\n",
    "\n",
    "\n",
    "score_unet = ScoreUNet(**CONFIG)\n",
    "vpsde = VPSDE(score_unet, shape=(MAR_channels*window, y_dim, x_dim))\n",
    "\n",
    "\n",
    "\n",
    "x = torch.randn([batch_size, window*MAR_channels, y_dim, x_dim]) # because of flatten\n",
    "\n",
    "vpsde.loss(x)"
   ],
   "id": "3f7d791a7c0963db",
   "outputs": [
    {
     "data": {
      "text/plain": [
       "tensor(1.2910, grad_fn=<MeanBackward0>)"
      ]
     },
     "execution_count": 47,
     "metadata": {},
     "output_type": "execute_result"
    }
   ],
   "execution_count": 47
  },
  {
   "metadata": {},
   "cell_type": "markdown",
   "source": "<h1> Batch Loop (Ensure Architecture design is well shaped)</h1>",
   "id": "1a20d23055a4cba6"
  },
  {
   "metadata": {
    "ExecuteTime": {
     "end_time": "2025-02-06T10:49:59.438465Z",
     "start_time": "2025-02-06T10:49:55.806968Z"
    }
   },
   "cell_type": "code",
   "source": [
    "import torch\n",
    "import h5py\n",
    "import torch.nn as nn\n",
    "from score import ScoreUNet, VPSDE\n",
    "\n",
    "# Common dimensions\n",
    "batch_size = 5\n",
    "MAR_channels = 4 # Example ['RF', 'T2m', 'U10m', MASK]\n",
    "window = 10\n",
    "y_dim = 128\n",
    "x_dim = 128\n",
    "\n",
    "# Define the network\n",
    "CONFIG = { 'hidden_channels' : [32, 64, 128],  \\\n",
    "'hidden_blocks' : [2, 3, 5],  \\\n",
    "'spatial' : 2, \\\n",
    "'channels' : window*MAR_channels, \\\n",
    "'context' : 0,\\\n",
    "'embedding' : 64 }\n",
    "\n",
    "# Denoiser and Scheduler\n",
    "score_unet = ScoreUNet(**CONFIG)\n",
    "vpsde = VPSDE(score_unet, shape=(MAR_channels*window, y_dim, x_dim))\n",
    "\n",
    "trainset = TrajectoryDataset(PATH / \"data/train.h5\", window=10, flatten=True)\n",
    "validset = TrajectoryDataset(PATH / \"data/valid.h5\", window=10, flatten=True)\n",
    "\n",
    "'''\n",
    " Batch loop\n",
    "'''\n",
    "with h5py.File(PATH / \"data/mask.h5\", \"r\") as f:\n",
    "    mask = torch.tensor(f[\"dataset\"][:], dtype=torch.float32).unsqueeze(0)\n",
    "\n",
    "trainloader = DataLoader(trainset, batch_size=batch_size, shuffle=True, num_workers=1, persistent_workers=True)\n",
    "validloader = DataLoader(validset, batch_size=batch_size, shuffle=False, num_workers=1, persistent_workers=True)\n",
    "for i, (batch, _) in enumerate(trainloader):\n",
    "        loss = vpsde.loss(batch, w=mask)\n",
    "        print(f\"{i} batch : {batch.shape}, loss : {loss}\")"
   ],
   "id": "397047736ca7899a",
   "outputs": [
    {
     "name": "stdout",
     "output_type": "stream",
     "text": [
      "0 batch : torch.Size([5, 40, 128, 128]), loss : nan\n",
      "1 batch : torch.Size([5, 40, 128, 128]), loss : nan\n",
      "2 batch : torch.Size([5, 40, 128, 128]), loss : nan\n",
      "3 batch : torch.Size([5, 40, 128, 128]), loss : nan\n",
      "4 batch : torch.Size([4, 40, 128, 128]), loss : nan\n"
     ]
    }
   ],
   "execution_count": 57
  },
  {
   "metadata": {},
   "cell_type": "markdown",
   "source": "<h1> CPU Training Loop </h1>",
   "id": "63ce069f77bafa30"
  },
  {
   "metadata": {
    "ExecuteTime": {
     "end_time": "2025-02-06T10:49:11.256490Z",
     "start_time": "2025-02-06T10:48:51.573140Z"
    }
   },
   "cell_type": "code",
   "source": [
    "import os\n",
    "import h5py\n",
    "import math\n",
    "import torch\n",
    "#import wandb\n",
    "import torch.nn as nn\n",
    "import torch.optim as optim\n",
    "from torch.utils.data import DataLoader\n",
    "from tqdm import trange\n",
    "from pathlib import Path\n",
    "from utils import TrajectoryDataset\n",
    "from score import ScoreUNet, MCScoreWrapper, VPSDE\n",
    "from score import VPSDE\n",
    "\n",
    "PATH = Path('.')\n",
    "\n",
    "with h5py.File(PATH / \"data/mask.h5\", \"r\") as f:\n",
    "    mask = torch.tensor(f[\"dataset\"][:], dtype=torch.float32).unsqueeze(0)  # Shape\n",
    "\n",
    "TRAIN_CONFIG = {\n",
    "    \"epochs\": 100,\n",
    "    \"batch_size\": 5,\n",
    "    \"learning_rate\": 1e-3,\n",
    "    \"weight_decay\": 1e-3,\n",
    "    \"scheduler\": \"linear\",  # Can be \"cosine\" or \"exponential\"\n",
    "    \"embedding\": 32,\n",
    "    \"hidden_channels\": (64,),\n",
    "    \"hidden_blocks\": (3,),\n",
    "    \"activation\": \"SiLU\",\n",
    "}\n",
    "device = 'cpu'\n",
    "\n",
    "'''\n",
    "Definition of Denoiser and Scheduler\n",
    "'''\n",
    "# Common dimensions\n",
    "batch_size = 5\n",
    "MAR_channels = 4 # Example ['RF', 'T2m', 'U10m', MASK]\n",
    "window = 10\n",
    "y_dim = 128\n",
    "x_dim = 128\n",
    "\n",
    "# Define the network\n",
    "MODEL_CONFIG = { 'hidden_channels' : [32, 64, 128],  \\\n",
    "'hidden_blocks' : [2, 3, 5],  \\\n",
    "'spatial' : 2, \\\n",
    "'channels' : window*MAR_channels, \\\n",
    "'context' : 0,\\\n",
    "'embedding' : 64 }\n",
    "\n",
    "# Denoiser and Scheduler\n",
    "score_unet = ScoreUNet(**MODEL_CONFIG)\n",
    "vpsde = VPSDE(score_unet, shape=(MAR_channels*window, y_dim, x_dim))\n",
    "\n",
    "# Load Dataset\n",
    "trainset = TrajectoryDataset(PATH / \"data/train.h5\", window=10, flatten=True)\n",
    "validset = TrajectoryDataset(PATH / \"data/valid.h5\", window=10, flatten=True)\n",
    "\n",
    "trainloader = DataLoader(trainset, batch_size=TRAIN_CONFIG[\"batch_size\"], shuffle=True, num_workers=1, persistent_workers=True)\n",
    "validloader = DataLoader(validset, batch_size=TRAIN_CONFIG[\"batch_size\"], shuffle=False, num_workers=1, persistent_workers=True)\n",
    "\n",
    "\n",
    "optimizer = optim.AdamW(vpsde.parameters(), lr=TRAIN_CONFIG[\"learning_rate\"], weight_decay=TRAIN_CONFIG[\"weight_decay\"])\n",
    "\n",
    "# Define Learning Rate Scheduler\n",
    "if TRAIN_CONFIG[\"scheduler\"] == \"linear\":\n",
    "    lr_lambda = lambda t: 1 - (t / TRAIN_CONFIG[\"epochs\"])\n",
    "elif TRAIN_CONFIG[\"scheduler\"] == \"cosine\":\n",
    "    lr_lambda = lambda t: (1 + math.cos(math.pi * t / TRAIN_CONFIG[\"epochs\"])) / 2\n",
    "elif TRAIN_CONFIG[\"scheduler\"] == \"exponential\":\n",
    "    lr_lambda = lambda t: math.exp(-7 * (t / TRAIN_CONFIG[\"epochs\"]) ** 2)\n",
    "else:\n",
    "    raise ValueError(\"Invalid scheduler type\")\n",
    "\n",
    "scheduler = optim.lr_scheduler.LambdaLR(optimizer, lr_lambda=lr_lambda)\n",
    "\n",
    "for epoch in (bar := trange(TRAIN_CONFIG[\"epochs\"], ncols=88)):\n",
    "    losses_train = []\n",
    "    losses_valid = []\n",
    "\n",
    "    ## Train\n",
    "    vpsde.train()\n",
    "    for i, (batch, _) in enumerate(trainloader):\n",
    "        batch = batch.to(device)\n",
    "        optimizer.zero_grad()\n",
    "\n",
    "        # **Apply Mask**\n",
    "        mask_batch = mask.to(device).expand_as(batch)  # Expand mask to match batch size\n",
    "        w = mask_batch.float()  # Convert mask to weight format\n",
    "\n",
    "        # **Compute VPSDE Loss**\n",
    "        loss = vpsde.loss(batch, w=w)\n",
    "        loss.backward()\n",
    "        optimizer.step()\n",
    "\n",
    "        losses_train.append(loss.detach())\n",
    "\n",
    "    ## Validation\n",
    "    vpsde.eval()\n",
    "    with torch.no_grad():\n",
    "        for batch, _ in validloader:\n",
    "            batch = batch.to(device)\n",
    "            mask_batch = mask.to(device).expand_as(batch)\n",
    "            w = mask_batch.float()\n",
    "\n",
    "            loss = vpsde.loss(batch, w=w)\n",
    "            losses_valid.append(loss)\n",
    "    ## Compute Loss Stats\n",
    "    loss_train = torch.stack(losses_train).mean().item()\n",
    "    loss_valid = torch.stack(losses_valid).mean().item()\n",
    "    print(f\"Train Loss : {loss_train}, Valid Loss : {loss_valid}\")\n",
    "    lr = optimizer.param_groups[0]['lr']\n",
    "\n",
    "    ## Step Scheduler\n",
    "    scheduler.step()"
   ],
   "id": "148a48cdf5035725",
   "outputs": [
    {
     "name": "stderr",
     "output_type": "stream",
     "text": [
      "  1%|▌                                                  | 1/100 [00:05<09:50,  5.97s/it]"
     ]
    },
    {
     "name": "stdout",
     "output_type": "stream",
     "text": [
      "Train Loss : nan, Valid Loss : nan\n"
     ]
    },
    {
     "name": "stderr",
     "output_type": "stream",
     "text": [
      "  2%|█                                                  | 2/100 [00:11<09:12,  5.64s/it]"
     ]
    },
    {
     "name": "stdout",
     "output_type": "stream",
     "text": [
      "Train Loss : nan, Valid Loss : nan\n"
     ]
    },
    {
     "name": "stderr",
     "output_type": "stream",
     "text": [
      "  3%|█▌                                                 | 3/100 [00:15<08:15,  5.11s/it]"
     ]
    },
    {
     "name": "stdout",
     "output_type": "stream",
     "text": [
      "Train Loss : nan, Valid Loss : nan\n"
     ]
    },
    {
     "name": "stderr",
     "output_type": "stream",
     "text": [
      "  3%|█▌                                                 | 3/100 [00:19<10:27,  6.46s/it]\n"
     ]
    },
    {
     "ename": "KeyboardInterrupt",
     "evalue": "",
     "output_type": "error",
     "traceback": [
      "\u001B[0;31m---------------------------------------------------------------------------\u001B[0m",
      "\u001B[0;31mKeyboardInterrupt\u001B[0m                         Traceback (most recent call last)",
      "Cell \u001B[0;32mIn[56], line 93\u001B[0m\n\u001B[1;32m     91\u001B[0m \u001B[38;5;66;03m# **Compute VPSDE Loss**\u001B[39;00m\n\u001B[1;32m     92\u001B[0m loss \u001B[38;5;241m=\u001B[39m vpsde\u001B[38;5;241m.\u001B[39mloss(batch, w\u001B[38;5;241m=\u001B[39mw)\n\u001B[0;32m---> 93\u001B[0m \u001B[43mloss\u001B[49m\u001B[38;5;241;43m.\u001B[39;49m\u001B[43mbackward\u001B[49m\u001B[43m(\u001B[49m\u001B[43m)\u001B[49m\n\u001B[1;32m     94\u001B[0m optimizer\u001B[38;5;241m.\u001B[39mstep()\n\u001B[1;32m     96\u001B[0m losses_train\u001B[38;5;241m.\u001B[39mappend(loss\u001B[38;5;241m.\u001B[39mdetach())\n",
      "File \u001B[0;32m~/anaconda3/envs/deep_learning/lib/python3.9/site-packages/torch/_tensor.py:581\u001B[0m, in \u001B[0;36mTensor.backward\u001B[0;34m(self, gradient, retain_graph, create_graph, inputs)\u001B[0m\n\u001B[1;32m    571\u001B[0m \u001B[38;5;28;01mif\u001B[39;00m has_torch_function_unary(\u001B[38;5;28mself\u001B[39m):\n\u001B[1;32m    572\u001B[0m     \u001B[38;5;28;01mreturn\u001B[39;00m handle_torch_function(\n\u001B[1;32m    573\u001B[0m         Tensor\u001B[38;5;241m.\u001B[39mbackward,\n\u001B[1;32m    574\u001B[0m         (\u001B[38;5;28mself\u001B[39m,),\n\u001B[0;32m   (...)\u001B[0m\n\u001B[1;32m    579\u001B[0m         inputs\u001B[38;5;241m=\u001B[39minputs,\n\u001B[1;32m    580\u001B[0m     )\n\u001B[0;32m--> 581\u001B[0m \u001B[43mtorch\u001B[49m\u001B[38;5;241;43m.\u001B[39;49m\u001B[43mautograd\u001B[49m\u001B[38;5;241;43m.\u001B[39;49m\u001B[43mbackward\u001B[49m\u001B[43m(\u001B[49m\n\u001B[1;32m    582\u001B[0m \u001B[43m    \u001B[49m\u001B[38;5;28;43mself\u001B[39;49m\u001B[43m,\u001B[49m\u001B[43m \u001B[49m\u001B[43mgradient\u001B[49m\u001B[43m,\u001B[49m\u001B[43m \u001B[49m\u001B[43mretain_graph\u001B[49m\u001B[43m,\u001B[49m\u001B[43m \u001B[49m\u001B[43mcreate_graph\u001B[49m\u001B[43m,\u001B[49m\u001B[43m \u001B[49m\u001B[43minputs\u001B[49m\u001B[38;5;241;43m=\u001B[39;49m\u001B[43minputs\u001B[49m\n\u001B[1;32m    583\u001B[0m \u001B[43m\u001B[49m\u001B[43m)\u001B[49m\n",
      "File \u001B[0;32m~/anaconda3/envs/deep_learning/lib/python3.9/site-packages/torch/autograd/__init__.py:347\u001B[0m, in \u001B[0;36mbackward\u001B[0;34m(tensors, grad_tensors, retain_graph, create_graph, grad_variables, inputs)\u001B[0m\n\u001B[1;32m    342\u001B[0m     retain_graph \u001B[38;5;241m=\u001B[39m create_graph\n\u001B[1;32m    344\u001B[0m \u001B[38;5;66;03m# The reason we repeat the same comment below is that\u001B[39;00m\n\u001B[1;32m    345\u001B[0m \u001B[38;5;66;03m# some Python versions print out the first line of a multi-line function\u001B[39;00m\n\u001B[1;32m    346\u001B[0m \u001B[38;5;66;03m# calls in the traceback and some print out the last line\u001B[39;00m\n\u001B[0;32m--> 347\u001B[0m \u001B[43m_engine_run_backward\u001B[49m\u001B[43m(\u001B[49m\n\u001B[1;32m    348\u001B[0m \u001B[43m    \u001B[49m\u001B[43mtensors\u001B[49m\u001B[43m,\u001B[49m\n\u001B[1;32m    349\u001B[0m \u001B[43m    \u001B[49m\u001B[43mgrad_tensors_\u001B[49m\u001B[43m,\u001B[49m\n\u001B[1;32m    350\u001B[0m \u001B[43m    \u001B[49m\u001B[43mretain_graph\u001B[49m\u001B[43m,\u001B[49m\n\u001B[1;32m    351\u001B[0m \u001B[43m    \u001B[49m\u001B[43mcreate_graph\u001B[49m\u001B[43m,\u001B[49m\n\u001B[1;32m    352\u001B[0m \u001B[43m    \u001B[49m\u001B[43minputs\u001B[49m\u001B[43m,\u001B[49m\n\u001B[1;32m    353\u001B[0m \u001B[43m    \u001B[49m\u001B[43mallow_unreachable\u001B[49m\u001B[38;5;241;43m=\u001B[39;49m\u001B[38;5;28;43;01mTrue\u001B[39;49;00m\u001B[43m,\u001B[49m\n\u001B[1;32m    354\u001B[0m \u001B[43m    \u001B[49m\u001B[43maccumulate_grad\u001B[49m\u001B[38;5;241;43m=\u001B[39;49m\u001B[38;5;28;43;01mTrue\u001B[39;49;00m\u001B[43m,\u001B[49m\n\u001B[1;32m    355\u001B[0m \u001B[43m\u001B[49m\u001B[43m)\u001B[49m\n",
      "File \u001B[0;32m~/anaconda3/envs/deep_learning/lib/python3.9/site-packages/torch/autograd/graph.py:825\u001B[0m, in \u001B[0;36m_engine_run_backward\u001B[0;34m(t_outputs, *args, **kwargs)\u001B[0m\n\u001B[1;32m    823\u001B[0m     unregister_hooks \u001B[38;5;241m=\u001B[39m _register_logging_hooks_on_whole_graph(t_outputs)\n\u001B[1;32m    824\u001B[0m \u001B[38;5;28;01mtry\u001B[39;00m:\n\u001B[0;32m--> 825\u001B[0m     \u001B[38;5;28;01mreturn\u001B[39;00m \u001B[43mVariable\u001B[49m\u001B[38;5;241;43m.\u001B[39;49m\u001B[43m_execution_engine\u001B[49m\u001B[38;5;241;43m.\u001B[39;49m\u001B[43mrun_backward\u001B[49m\u001B[43m(\u001B[49m\u001B[43m  \u001B[49m\u001B[38;5;66;43;03m# Calls into the C++ engine to run the backward pass\u001B[39;49;00m\n\u001B[1;32m    826\u001B[0m \u001B[43m        \u001B[49m\u001B[43mt_outputs\u001B[49m\u001B[43m,\u001B[49m\u001B[43m \u001B[49m\u001B[38;5;241;43m*\u001B[39;49m\u001B[43margs\u001B[49m\u001B[43m,\u001B[49m\u001B[43m \u001B[49m\u001B[38;5;241;43m*\u001B[39;49m\u001B[38;5;241;43m*\u001B[39;49m\u001B[43mkwargs\u001B[49m\n\u001B[1;32m    827\u001B[0m \u001B[43m    \u001B[49m\u001B[43m)\u001B[49m  \u001B[38;5;66;03m# Calls into the C++ engine to run the backward pass\u001B[39;00m\n\u001B[1;32m    828\u001B[0m \u001B[38;5;28;01mfinally\u001B[39;00m:\n\u001B[1;32m    829\u001B[0m     \u001B[38;5;28;01mif\u001B[39;00m attach_logging_hooks:\n",
      "\u001B[0;31mKeyboardInterrupt\u001B[0m: "
     ]
    }
   ],
   "execution_count": 56
  },
  {
   "metadata": {
    "ExecuteTime": {
     "end_time": "2025-02-06T10:43:33.133304Z",
     "start_time": "2025-02-06T10:43:30.677869Z"
    }
   },
   "cell_type": "code",
   "source": [
    "import torch\n",
    "import matplotlib.pyplot as plt\n",
    "\n",
    "plt.figure(figsize=(8, 5))\n",
    "plt.plot(range(1, len(losses_train) + 1), losses_train, label=\"Train Loss\", marker=\"o\")\n",
    "plt.plot(range(1, len(losses_valid) + 1), losses_valid, label=\"Validation Loss\", marker=\"s\")\n",
    "\n",
    "plt.xlabel(\"Epoch\")\n",
    "plt.ylabel(\"Loss\")\n",
    "plt.title(\"Training and Validation Loss Over Epochs\")\n",
    "plt.legend()\n",
    "plt.grid(True)\n",
    "plt.show()\n",
    "print(losses_train)"
   ],
   "id": "db86cfdf1a87123",
   "outputs": [
    {
     "data": {
      "text/plain": [
       "<Figure size 800x500 with 1 Axes>"
      ],
      "image/png": "[encoded data removed]"
     },
     "metadata": {},
     "output_type": "display_data"
    }
   ],
   "execution_count": 52
  },
  {
   "metadata": {
    "ExecuteTime": {
     "end_time": "2025-02-06T10:44:10.114103Z",
     "start_time": "2025-02-06T10:44:10.108268Z"
    }
   },
   "cell_type": "code",
   "source": [
    "print(losses_train)\n",
    "print(losses_valid)"
   ],
   "id": "56d420dbcdddce05",
   "outputs": [
    {
     "name": "stdout",
     "output_type": "stream",
     "text": [
      "[tensor(nan), tensor(nan), tensor(nan), tensor(nan), tensor(nan)]\n",
      "[tensor(nan)]\n"
     ]
    }
   ],
   "execution_count": 53
  }
 ],
 "metadata": {
  "kernelspec": {
   "display_name": "Python 3",
   "language": "python",
   "name": "python3"
  },
  "language_info": {
   "codemirror_mode": {
    "name": "ipython",
    "version": 2
   },
   "file_extension": ".py",
   "mimetype": "text/x-python",
   "name": "python",
   "nbconvert_exporter": "python",
   "pygments_lexer": "ipython2",
   "version": "2.7.6"
  }
 },
 "nbformat": 4,
 "nbformat_minor": 5
}
